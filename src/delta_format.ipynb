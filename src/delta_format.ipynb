{
 "cells": [
  {
   "cell_type": "code",
   "execution_count": 0,
   "metadata": {
    "application/vnd.databricks.v1+cell": {
     "cellMetadata": {
      "byteLimit": 2048000,
      "rowLimit": 10000
     },
     "inputWidgets": {},
     "nuid": "93e1a4c1-087a-446b-a4be-2bfc6b127b45",
     "showTitle": false,
     "tableResultSettingsMap": {},
     "title": ""
    }
   },
   "outputs": [],
   "source": [
    "from pyspark.sql.functions import *\n",
    "from pyspark.sql.types import *"
   ]
  },
  {
   "cell_type": "code",
   "execution_count": 0,
   "metadata": {
    "application/vnd.databricks.v1+cell": {
     "cellMetadata": {
      "byteLimit": 2048000,
      "rowLimit": 10000
     },
     "inputWidgets": {},
     "nuid": "045f8f42-b477-4efe-8629-ab8346def165",
     "showTitle": false,
     "tableResultSettingsMap": {},
     "title": ""
    }
   },
   "outputs": [],
   "source": [
    "df = spark.read.format('delta').load('dbfs:/Users/arjun37ca@gmail.com/d1')"
   ]
  },
  {
   "cell_type": "code",
   "execution_count": 0,
   "metadata": {
    "application/vnd.databricks.v1+cell": {
     "cellMetadata": {
      "byteLimit": 2048000,
      "rowLimit": 10000
     },
     "inputWidgets": {},
     "nuid": "286be669-dd1f-4fd3-916b-077f152faf38",
     "showTitle": false,
     "tableResultSettingsMap": {},
     "title": ""
    }
   },
   "outputs": [
    {
     "output_type": "stream",
     "name": "stdout",
     "output_type": "stream",
     "text": [
      "root\n |-- EmployeeID: long (nullable = true)\n |-- FirstName: string (nullable = true)\n |-- LastName: string (nullable = true)\n |-- Department: string (nullable = true)\n\n"
     ]
    }
   ],
   "source": [
    "df.printSchema()"
   ]
  },
  {
   "cell_type": "code",
   "execution_count": 0,
   "metadata": {
    "application/vnd.databricks.v1+cell": {
     "cellMetadata": {
      "byteLimit": 2048000,
      "rowLimit": 10000
     },
     "inputWidgets": {},
     "nuid": "c3e1c356-2b1d-4977-810e-aa6238343cb4",
     "showTitle": false,
     "tableResultSettingsMap": {},
     "title": ""
    }
   },
   "outputs": [
    {
     "output_type": "display_data",
     "data": {
      "text/html": [
       "<style scoped>\n",
       "  .table-result-container {\n",
       "    max-height: 300px;\n",
       "    overflow: auto;\n",
       "  }\n",
       "  table, th, td {\n",
       "    border: 1px solid black;\n",
       "    border-collapse: collapse;\n",
       "  }\n",
       "  th, td {\n",
       "    padding: 5px;\n",
       "  }\n",
       "  th {\n",
       "    text-align: left;\n",
       "  }\n",
       "</style><div class='table-result-container'><table class='table-result'><thead style='background-color: white'><tr><th>EmployeeID</th><th>FirstName</th><th>LastName</th><th>Department</th></tr></thead><tbody><tr><td>2</td><td>Jane</td><td>Smith</td><td>Operations</td></tr><tr><td>2</td><td>Jane</td><td>Smith</td><td>Finance</td></tr><tr><td>4</td><td>Mark</td><td>Taylor</td><td>Sales</td></tr><tr><td>3</td><td>Alice</td><td>Brown</td><td>IT</td></tr><tr><td>1</td><td>John</td><td>Doe</td><td>HR</td></tr></tbody></table></div>"
      ]
     },
     "metadata": {
      "application/vnd.databricks.v1+output": {
       "addedWidgets": {},
       "aggData": [],
       "aggError": "",
       "aggOverflow": false,
       "aggSchema": [],
       "aggSeriesLimitReached": false,
       "aggType": "",
       "arguments": {},
       "columnCustomDisplayInfos": {},
       "data": [
        [
         2,
         "Jane",
         "Smith",
         "Operations"
        ],
        [
         2,
         "Jane",
         "Smith",
         "Finance"
        ],
        [
         4,
         "Mark",
         "Taylor",
         "Sales"
        ],
        [
         3,
         "Alice",
         "Brown",
         "IT"
        ],
        [
         1,
         "John",
         "Doe",
         "HR"
        ]
       ],
       "datasetInfos": [],
       "dbfsResultPath": null,
       "isJsonSchema": true,
       "metadata": {},
       "overflow": false,
       "plotOptions": {
        "customPlotOptions": {},
        "displayType": "table",
        "pivotAggregation": null,
        "pivotColumns": null,
        "xColumns": null,
        "yColumns": null
       },
       "removedWidgets": [],
       "schema": [
        {
         "metadata": "{}",
         "name": "EmployeeID",
         "type": "\"long\""
        },
        {
         "metadata": "{}",
         "name": "FirstName",
         "type": "\"string\""
        },
        {
         "metadata": "{}",
         "name": "LastName",
         "type": "\"string\""
        },
        {
         "metadata": "{}",
         "name": "Department",
         "type": "\"string\""
        }
       ],
       "type": "table"
      }
     },
     "output_type": "display_data"
    }
   ],
   "source": [
    "df.display()"
   ]
  },
  {
   "cell_type": "code",
   "execution_count": 0,
   "metadata": {
    "application/vnd.databricks.v1+cell": {
     "cellMetadata": {
      "byteLimit": 2048000,
      "implicitDf": true,
      "rowLimit": 10000
     },
     "inputWidgets": {},
     "nuid": "121685cc-8830-4484-8c72-60e122278a7b",
     "showTitle": false,
     "tableResultSettingsMap": {},
     "title": ""
    }
   },
   "outputs": [
    {
     "output_type": "display_data",
     "data": {
      "text/html": [
       "<style scoped>\n",
       "  .table-result-container {\n",
       "    max-height: 300px;\n",
       "    overflow: auto;\n",
       "  }\n",
       "  table, th, td {\n",
       "    border: 1px solid black;\n",
       "    border-collapse: collapse;\n",
       "  }\n",
       "  th, td {\n",
       "    padding: 5px;\n",
       "  }\n",
       "  th {\n",
       "    text-align: left;\n",
       "  }\n",
       "</style><div class='table-result-container'><table class='table-result'><thead style='background-color: white'><tr><th>id</th><th>name</th><th>email</th><th>phone</th><th>city</th><th>state</th><th>street</th><th>zipcode</th><th>item_id</th><th>product_name</th><th>price</th><th>quantity</th></tr></thead><tbody><tr><td>1</td><td>John Doe</td><td>john.doe@example.com</td><td>123-456-7890</td><td>Somewhere</td><td>CA</td><td>123 Main St</td><td>12345</td><td>X1</td><td>Laptop</td><td>1200</td><td>1</td></tr><tr><td>1</td><td>John Doe</td><td>john.doe@example.com</td><td>123-456-7890</td><td>Somewhere</td><td>CA</td><td>123 Main St</td><td>12345</td><td>X2</td><td>Mouse</td><td>30</td><td>1</td></tr><tr><td>1</td><td>John Doe</td><td>john.doe@example.com</td><td>123-456-7890</td><td>Somewhere</td><td>CA</td><td>123 Main St</td><td>12345</td><td>X3</td><td>Keyboard</td><td>100</td><td>1</td></tr><tr><td>2</td><td>Jane Smith</td><td>jane.smith@example.com</td><td>987-654-3210</td><td>Anywhere</td><td>TX</td><td>456 Elm St</td><td>67890</td><td>Y1</td><td>Smartphone</td><td>800</td><td>1</td></tr><tr><td>3</td><td>Michael Johnson</td><td>michael.johnson@example.com</td><td>321-654-9870</td><td>Elsewhere</td><td>NY</td><td>789 Oak St</td><td>11223</td><td>Z1</td><td>Tablet</td><td>450</td><td>1</td></tr><tr><td>3</td><td>Michael Johnson</td><td>michael.johnson@example.com</td><td>321-654-9870</td><td>Elsewhere</td><td>NY</td><td>789 Oak St</td><td>11223</td><td>Z2</td><td>Charger</td><td>20</td><td>1</td></tr><tr><td>4</td><td>Emily Davis</td><td>emily.davis@example.com</td><td>654-321-0987</td><td>Nowhere</td><td>FL</td><td>321 Pine St</td><td>23456</td><td>W1</td><td>Monitor</td><td>300</td><td>2</td></tr><tr><td>5</td><td>David Lee</td><td>david.lee@example.com</td><td>555-123-4567</td><td>Everywhere</td><td>WA</td><td>654 Birch St</td><td>34567</td><td>V1</td><td>Headphones</td><td>150</td><td>1</td></tr><tr><td>5</td><td>David Lee</td><td>david.lee@example.com</td><td>555-123-4567</td><td>Everywhere</td><td>WA</td><td>654 Birch St</td><td>34567</td><td>V2</td><td>Case</td><td>30</td><td>1</td></tr><tr><td>6</td><td>Sophia Turner</td><td>sophia.turner@example.com</td><td>111-222-3333</td><td>Somewhereelse</td><td>OR</td><td>987 Cedar St</td><td>45678</td><td>P1</td><td>Monitor Stand</td><td>80</td><td>1</td></tr><tr><td>7</td><td>Liam Brown</td><td>liam.brown@example.com</td><td>444-555-6666</td><td>Hometown</td><td>CO</td><td>234 Maple St</td><td>56789</td><td>T1</td><td>Bluetooth Speaker</td><td>200</td><td>1</td></tr><tr><td>8</td><td>Ava Martinez</td><td>ava.martinez@example.com</td><td>777-888-9999</td><td>Newtown</td><td>NV</td><td>567 Spruce St</td><td>67890</td><td>Q1</td><td>Smartwatch</td><td>250</td><td>1</td></tr><tr><td>9</td><td>Ethan White</td><td>ethan.white@example.com</td><td>222-333-4444</td><td>Anyplace</td><td>AZ</td><td>890 Fir St</td><td>78901</td><td>R1</td><td>Gaming Console</td><td>500</td><td>1</td></tr><tr><td>10</td><td>Mason Clark</td><td>mason.clark@example.com</td><td>333-444-5555</td><td>Uptown</td><td>NC</td><td>432 Willow St</td><td>89012</td><td>S1</td><td>Camera</td><td>400</td><td>1</td></tr><tr><td>10</td><td>Mason Clark</td><td>mason.clark@example.com</td><td>333-444-5555</td><td>Uptown</td><td>NC</td><td>432 Willow St</td><td>89012</td><td>S2</td><td>Tripod</td><td>50</td><td>1</td></tr></tbody></table></div>"
      ]
     },
     "metadata": {
      "application/vnd.databricks.v1+output": {
       "addedWidgets": {},
       "aggData": [],
       "aggError": "",
       "aggOverflow": false,
       "aggSchema": [],
       "aggSeriesLimitReached": false,
       "aggType": "",
       "arguments": {},
       "columnCustomDisplayInfos": {},
       "data": [
        [
         1,
         "John Doe",
         "john.doe@example.com",
         "123-456-7890",
         "Somewhere",
         "CA",
         "123 Main St",
         12345,
         "X1",
         "Laptop",
         1200,
         1
        ],
        [
         1,
         "John Doe",
         "john.doe@example.com",
         "123-456-7890",
         "Somewhere",
         "CA",
         "123 Main St",
         12345,
         "X2",
         "Mouse",
         30,
         1
        ],
        [
         1,
         "John Doe",
         "john.doe@example.com",
         "123-456-7890",
         "Somewhere",
         "CA",
         "123 Main St",
         12345,
         "X3",
         "Keyboard",
         100,
         1
        ],
        [
         2,
         "Jane Smith",
         "jane.smith@example.com",
         "987-654-3210",
         "Anywhere",
         "TX",
         "456 Elm St",
         67890,
         "Y1",
         "Smartphone",
         800,
         1
        ],
        [
         3,
         "Michael Johnson",
         "michael.johnson@example.com",
         "321-654-9870",
         "Elsewhere",
         "NY",
         "789 Oak St",
         11223,
         "Z1",
         "Tablet",
         450,
         1
        ],
        [
         3,
         "Michael Johnson",
         "michael.johnson@example.com",
         "321-654-9870",
         "Elsewhere",
         "NY",
         "789 Oak St",
         11223,
         "Z2",
         "Charger",
         20,
         1
        ],
        [
         4,
         "Emily Davis",
         "emily.davis@example.com",
         "654-321-0987",
         "Nowhere",
         "FL",
         "321 Pine St",
         23456,
         "W1",
         "Monitor",
         300,
         2
        ],
        [
         5,
         "David Lee",
         "david.lee@example.com",
         "555-123-4567",
         "Everywhere",
         "WA",
         "654 Birch St",
         34567,
         "V1",
         "Headphones",
         150,
         1
        ],
        [
         5,
         "David Lee",
         "david.lee@example.com",
         "555-123-4567",
         "Everywhere",
         "WA",
         "654 Birch St",
         34567,
         "V2",
         "Case",
         30,
         1
        ],
        [
         6,
         "Sophia Turner",
         "sophia.turner@example.com",
         "111-222-3333",
         "Somewhereelse",
         "OR",
         "987 Cedar St",
         45678,
         "P1",
         "Monitor Stand",
         80,
         1
        ],
        [
         7,
         "Liam Brown",
         "liam.brown@example.com",
         "444-555-6666",
         "Hometown",
         "CO",
         "234 Maple St",
         56789,
         "T1",
         "Bluetooth Speaker",
         200,
         1
        ],
        [
         8,
         "Ava Martinez",
         "ava.martinez@example.com",
         "777-888-9999",
         "Newtown",
         "NV",
         "567 Spruce St",
         67890,
         "Q1",
         "Smartwatch",
         250,
         1
        ],
        [
         9,
         "Ethan White",
         "ethan.white@example.com",
         "222-333-4444",
         "Anyplace",
         "AZ",
         "890 Fir St",
         78901,
         "R1",
         "Gaming Console",
         500,
         1
        ],
        [
         10,
         "Mason Clark",
         "mason.clark@example.com",
         "333-444-5555",
         "Uptown",
         "NC",
         "432 Willow St",
         89012,
         "S1",
         "Camera",
         400,
         1
        ],
        [
         10,
         "Mason Clark",
         "mason.clark@example.com",
         "333-444-5555",
         "Uptown",
         "NC",
         "432 Willow St",
         89012,
         "S2",
         "Tripod",
         50,
         1
        ]
       ],
       "datasetInfos": [],
       "dbfsResultPath": null,
       "isJsonSchema": true,
       "metadata": {},
       "overflow": false,
       "plotOptions": {
        "customPlotOptions": {},
        "displayType": "table",
        "pivotAggregation": null,
        "pivotColumns": null,
        "xColumns": null,
        "yColumns": null
       },
       "removedWidgets": [],
       "schema": [
        {
         "metadata": "{}",
         "name": "id",
         "type": "\"long\""
        },
        {
         "metadata": "{}",
         "name": "name",
         "type": "\"string\""
        },
        {
         "metadata": "{}",
         "name": "email",
         "type": "\"string\""
        },
        {
         "metadata": "{}",
         "name": "phone",
         "type": "\"string\""
        },
        {
         "metadata": "{}",
         "name": "city",
         "type": "\"string\""
        },
        {
         "metadata": "{}",
         "name": "state",
         "type": "\"string\""
        },
        {
         "metadata": "{}",
         "name": "street",
         "type": "\"string\""
        },
        {
         "metadata": "{}",
         "name": "zipcode",
         "type": "\"integer\""
        },
        {
         "metadata": "{}",
         "name": "item_id",
         "type": "\"string\""
        },
        {
         "metadata": "{}",
         "name": "product_name",
         "type": "\"string\""
        },
        {
         "metadata": "{}",
         "name": "price",
         "type": "\"long\""
        },
        {
         "metadata": "{}",
         "name": "quantity",
         "type": "\"long\""
        }
       ],
       "type": "table"
      }
     },
     "output_type": "display_data"
    }
   ],
   "source": [
    "%sql\n",
    "select * from json_table_updated"
   ]
  },
  {
   "cell_type": "code",
   "execution_count": 0,
   "metadata": {
    "application/vnd.databricks.v1+cell": {
     "cellMetadata": {
      "byteLimit": 2048000,
      "implicitDf": true,
      "rowLimit": 10000
     },
     "inputWidgets": {},
     "nuid": "83968891-227c-4396-bed2-88ed13bb3c1c",
     "showTitle": false,
     "tableResultSettingsMap": {},
     "title": ""
    }
   },
   "outputs": [
    {
     "output_type": "display_data",
     "data": {
      "text/html": [
       "<style scoped>\n",
       "  .table-result-container {\n",
       "    max-height: 300px;\n",
       "    overflow: auto;\n",
       "  }\n",
       "  table, th, td {\n",
       "    border: 1px solid black;\n",
       "    border-collapse: collapse;\n",
       "  }\n",
       "  th, td {\n",
       "    padding: 5px;\n",
       "  }\n",
       "  th {\n",
       "    text-align: left;\n",
       "  }\n",
       "</style><div class='table-result-container'><table class='table-result'><thead style='background-color: white'><tr><th>num_affected_rows</th></tr></thead><tbody><tr><td>3</td></tr></tbody></table></div>"
      ]
     },
     "metadata": {
      "application/vnd.databricks.v1+output": {
       "addedWidgets": {},
       "aggData": [],
       "aggError": "",
       "aggOverflow": false,
       "aggSchema": [],
       "aggSeriesLimitReached": false,
       "aggType": "",
       "arguments": {},
       "columnCustomDisplayInfos": {},
       "data": [
        [
         3
        ]
       ],
       "datasetInfos": [],
       "dbfsResultPath": null,
       "isJsonSchema": true,
       "metadata": {},
       "overflow": false,
       "plotOptions": {
        "customPlotOptions": {},
        "displayType": "table",
        "pivotAggregation": null,
        "pivotColumns": null,
        "xColumns": null,
        "yColumns": null
       },
       "removedWidgets": [],
       "schema": [
        {
         "metadata": "{}",
         "name": "num_affected_rows",
         "type": "\"long\""
        }
       ],
       "type": "table"
      }
     },
     "output_type": "display_data"
    }
   ],
   "source": [
    "%sql\n",
    "update json_table_updated\n",
    "set state='california' where state='CA'"
   ]
  },
  {
   "cell_type": "code",
   "execution_count": 0,
   "metadata": {
    "application/vnd.databricks.v1+cell": {
     "cellMetadata": {
      "byteLimit": 2048000,
      "implicitDf": true,
      "rowLimit": 10000
     },
     "inputWidgets": {},
     "nuid": "71c435be-0589-4646-a363-3e8c8eeaa1c8",
     "showTitle": false,
     "tableResultSettingsMap": {},
     "title": ""
    }
   },
   "outputs": [
    {
     "output_type": "display_data",
     "data": {
      "text/html": [
       "<style scoped>\n",
       "  .table-result-container {\n",
       "    max-height: 300px;\n",
       "    overflow: auto;\n",
       "  }\n",
       "  table, th, td {\n",
       "    border: 1px solid black;\n",
       "    border-collapse: collapse;\n",
       "  }\n",
       "  th, td {\n",
       "    padding: 5px;\n",
       "  }\n",
       "  th {\n",
       "    text-align: left;\n",
       "  }\n",
       "</style><div class='table-result-container'><table class='table-result'><thead style='background-color: white'><tr><th>version</th><th>timestamp</th><th>userId</th><th>userName</th><th>operation</th><th>operationParameters</th><th>job</th><th>notebook</th><th>clusterId</th><th>readVersion</th><th>isolationLevel</th><th>isBlindAppend</th><th>operationMetrics</th><th>userMetadata</th><th>engineInfo</th></tr></thead><tbody><tr><td>1</td><td>2025-02-17T12:19:31.000+0000</td><td>7290234864191048</td><td>arjun37ca@gmail.com</td><td>UPDATE</td><td>Map(predicate -> [\"(state#16774 = CA)\"])</td><td>null</td><td>List(4371623168627215)</td><td>0217-054657-g4t1mtlb</td><td>0</td><td>WriteSerializable</td><td>false</td><td>Map(numRemovedFiles -> 1, numRemovedBytes -> 4865, numCopiedRows -> 12, numDeletionVectorsAdded -> 0, numDeletionVectorsRemoved -> 0, numAddedChangeFiles -> 0, executionTimeMs -> 2285, scanTimeMs -> 1186, numAddedFiles -> 1, numUpdatedRows -> 3, numAddedBytes -> 4893, rewriteTimeMs -> 1069)</td><td>null</td><td>Databricks-Runtime/12.2.x-scala2.12</td></tr><tr><td>0</td><td>2025-02-17T12:16:21.000+0000</td><td>7290234864191048</td><td>arjun37ca@gmail.com</td><td>CREATE OR REPLACE TABLE AS SELECT</td><td>Map(isManaged -> false, description -> null, partitionBy -> [], properties -> {})</td><td>null</td><td>List(4371623168627191)</td><td>0217-054657-g4t1mtlb</td><td>null</td><td>WriteSerializable</td><td>false</td><td>Map(numFiles -> 1, numOutputRows -> 15, numOutputBytes -> 4865)</td><td>null</td><td>Databricks-Runtime/12.2.x-scala2.12</td></tr></tbody></table></div>"
      ]
     },
     "metadata": {
      "application/vnd.databricks.v1+output": {
       "addedWidgets": {},
       "aggData": [],
       "aggError": "",
       "aggOverflow": false,
       "aggSchema": [],
       "aggSeriesLimitReached": false,
       "aggType": "",
       "arguments": {},
       "columnCustomDisplayInfos": {},
       "data": [
        [
         1,
         "2025-02-17T12:19:31.000+0000",
         "7290234864191048",
         "arjun37ca@gmail.com",
         "UPDATE",
         {
          "predicate": "[\"(state#16774 = CA)\"]"
         },
         null,
         [
          "4371623168627215"
         ],
         "0217-054657-g4t1mtlb",
         0,
         "WriteSerializable",
         false,
         {
          "executionTimeMs": "2285",
          "numAddedBytes": "4893",
          "numAddedChangeFiles": "0",
          "numAddedFiles": "1",
          "numCopiedRows": "12",
          "numDeletionVectorsAdded": "0",
          "numDeletionVectorsRemoved": "0",
          "numRemovedBytes": "4865",
          "numRemovedFiles": "1",
          "numUpdatedRows": "3",
          "rewriteTimeMs": "1069",
          "scanTimeMs": "1186"
         },
         null,
         "Databricks-Runtime/12.2.x-scala2.12"
        ],
        [
         0,
         "2025-02-17T12:16:21.000+0000",
         "7290234864191048",
         "arjun37ca@gmail.com",
         "CREATE OR REPLACE TABLE AS SELECT",
         {
          "description": null,
          "isManaged": "false",
          "partitionBy": "[]",
          "properties": "{}"
         },
         null,
         [
          "4371623168627191"
         ],
         "0217-054657-g4t1mtlb",
         null,
         "WriteSerializable",
         false,
         {
          "numFiles": "1",
          "numOutputBytes": "4865",
          "numOutputRows": "15"
         },
         null,
         "Databricks-Runtime/12.2.x-scala2.12"
        ]
       ],
       "datasetInfos": [],
       "dbfsResultPath": null,
       "isJsonSchema": true,
       "metadata": {},
       "overflow": false,
       "plotOptions": {
        "customPlotOptions": {},
        "displayType": "table",
        "pivotAggregation": null,
        "pivotColumns": null,
        "xColumns": null,
        "yColumns": null
       },
       "removedWidgets": [],
       "schema": [
        {
         "metadata": "{}",
         "name": "version",
         "type": "\"long\""
        },
        {
         "metadata": "{}",
         "name": "timestamp",
         "type": "\"timestamp\""
        },
        {
         "metadata": "{}",
         "name": "userId",
         "type": "\"string\""
        },
        {
         "metadata": "{}",
         "name": "userName",
         "type": "\"string\""
        },
        {
         "metadata": "{}",
         "name": "operation",
         "type": "\"string\""
        },
        {
         "metadata": "{}",
         "name": "operationParameters",
         "type": "{\"type\":\"map\",\"keyType\":\"string\",\"valueType\":\"string\",\"valueContainsNull\":true}"
        },
        {
         "metadata": "{}",
         "name": "job",
         "type": "{\"type\":\"struct\",\"fields\":[{\"name\":\"jobId\",\"type\":\"string\",\"nullable\":true,\"metadata\":{}},{\"name\":\"jobName\",\"type\":\"string\",\"nullable\":true,\"metadata\":{}},{\"name\":\"jobRunId\",\"type\":\"string\",\"nullable\":true,\"metadata\":{}},{\"name\":\"runId\",\"type\":\"string\",\"nullable\":true,\"metadata\":{}},{\"name\":\"jobOwnerId\",\"type\":\"string\",\"nullable\":true,\"metadata\":{}},{\"name\":\"triggerType\",\"type\":\"string\",\"nullable\":true,\"metadata\":{}}]}"
        },
        {
         "metadata": "{}",
         "name": "notebook",
         "type": "{\"type\":\"struct\",\"fields\":[{\"name\":\"notebookId\",\"type\":\"string\",\"nullable\":true,\"metadata\":{}}]}"
        },
        {
         "metadata": "{}",
         "name": "clusterId",
         "type": "\"string\""
        },
        {
         "metadata": "{}",
         "name": "readVersion",
         "type": "\"long\""
        },
        {
         "metadata": "{}",
         "name": "isolationLevel",
         "type": "\"string\""
        },
        {
         "metadata": "{}",
         "name": "isBlindAppend",
         "type": "\"boolean\""
        },
        {
         "metadata": "{}",
         "name": "operationMetrics",
         "type": "{\"type\":\"map\",\"keyType\":\"string\",\"valueType\":\"string\",\"valueContainsNull\":true}"
        },
        {
         "metadata": "{}",
         "name": "userMetadata",
         "type": "\"string\""
        },
        {
         "metadata": "{}",
         "name": "engineInfo",
         "type": "\"string\""
        }
       ],
       "type": "table"
      }
     },
     "output_type": "display_data"
    }
   ],
   "source": [
    "%sql\n",
    "describe history json_table_updated "
   ]
  },
  {
   "cell_type": "code",
   "execution_count": 0,
   "metadata": {
    "application/vnd.databricks.v1+cell": {
     "cellMetadata": {
      "byteLimit": 2048000,
      "implicitDf": true,
      "rowLimit": 10000
     },
     "inputWidgets": {},
     "nuid": "ce8592c9-3c05-4c30-94c9-1f0e6315b8fd",
     "showTitle": false,
     "tableResultSettingsMap": {},
     "title": ""
    }
   },
   "outputs": [
    {
     "output_type": "display_data",
     "data": {
      "text/html": [
       "<style scoped>\n",
       "  .table-result-container {\n",
       "    max-height: 300px;\n",
       "    overflow: auto;\n",
       "  }\n",
       "  table, th, td {\n",
       "    border: 1px solid black;\n",
       "    border-collapse: collapse;\n",
       "  }\n",
       "  th, td {\n",
       "    padding: 5px;\n",
       "  }\n",
       "  th {\n",
       "    text-align: left;\n",
       "  }\n",
       "</style><div class='table-result-container'><table class='table-result'><thead style='background-color: white'><tr><th>col_name</th><th>data_type</th><th>comment</th></tr></thead><tbody><tr><td>id</td><td>bigint</td><td>null</td></tr><tr><td>name</td><td>string</td><td>null</td></tr><tr><td>email</td><td>string</td><td>null</td></tr><tr><td>phone</td><td>string</td><td>null</td></tr><tr><td>city</td><td>string</td><td>null</td></tr><tr><td>state</td><td>string</td><td>null</td></tr><tr><td>street</td><td>string</td><td>null</td></tr><tr><td>zipcode</td><td>int</td><td>null</td></tr><tr><td>item_id</td><td>string</td><td>null</td></tr><tr><td>product_name</td><td>string</td><td>null</td></tr><tr><td>price</td><td>bigint</td><td>null</td></tr><tr><td>quantity</td><td>bigint</td><td>null</td></tr><tr><td></td><td></td><td></td></tr><tr><td># Detailed Table Information</td><td></td><td></td></tr><tr><td>Catalog</td><td>spark_catalog</td><td></td></tr><tr><td>Database</td><td>default</td><td></td></tr><tr><td>Table</td><td>json_table_updated</td><td></td></tr><tr><td>Created Time</td><td>Mon Feb 17 12:16:23 UTC 2025</td><td></td></tr><tr><td>Last Access</td><td>UNKNOWN</td><td></td></tr><tr><td>Created By</td><td>Spark 3.3.2</td><td></td></tr><tr><td>Type</td><td>EXTERNAL</td><td></td></tr><tr><td>Location</td><td>dbfs:/FileStore/shared_uploads/arjun37ca@gmail.com/json_table</td><td></td></tr><tr><td>Provider</td><td>delta</td><td></td></tr><tr><td>Owner</td><td>root</td><td></td></tr><tr><td>Table Properties</td><td>[delta.minReaderVersion=1,delta.minWriterVersion=2]</td><td></td></tr></tbody></table></div>"
      ]
     },
     "metadata": {
      "application/vnd.databricks.v1+output": {
       "addedWidgets": {},
       "aggData": [],
       "aggError": "",
       "aggOverflow": false,
       "aggSchema": [],
       "aggSeriesLimitReached": false,
       "aggType": "",
       "arguments": {},
       "columnCustomDisplayInfos": {},
       "data": [
        [
         "id",
         "bigint",
         null
        ],
        [
         "name",
         "string",
         null
        ],
        [
         "email",
         "string",
         null
        ],
        [
         "phone",
         "string",
         null
        ],
        [
         "city",
         "string",
         null
        ],
        [
         "state",
         "string",
         null
        ],
        [
         "street",
         "string",
         null
        ],
        [
         "zipcode",
         "int",
         null
        ],
        [
         "item_id",
         "string",
         null
        ],
        [
         "product_name",
         "string",
         null
        ],
        [
         "price",
         "bigint",
         null
        ],
        [
         "quantity",
         "bigint",
         null
        ],
        [
         "",
         "",
         ""
        ],
        [
         "# Detailed Table Information",
         "",
         ""
        ],
        [
         "Catalog",
         "spark_catalog",
         ""
        ],
        [
         "Database",
         "default",
         ""
        ],
        [
         "Table",
         "json_table_updated",
         ""
        ],
        [
         "Created Time",
         "Mon Feb 17 12:16:23 UTC 2025",
         ""
        ],
        [
         "Last Access",
         "UNKNOWN",
         ""
        ],
        [
         "Created By",
         "Spark 3.3.2",
         ""
        ],
        [
         "Type",
         "EXTERNAL",
         ""
        ],
        [
         "Location",
         "dbfs:/FileStore/shared_uploads/arjun37ca@gmail.com/json_table",
         ""
        ],
        [
         "Provider",
         "delta",
         ""
        ],
        [
         "Owner",
         "root",
         ""
        ],
        [
         "Table Properties",
         "[delta.minReaderVersion=1,delta.minWriterVersion=2]",
         ""
        ]
       ],
       "datasetInfos": [],
       "dbfsResultPath": null,
       "isJsonSchema": true,
       "metadata": {},
       "overflow": false,
       "plotOptions": {
        "customPlotOptions": {},
        "displayType": "table",
        "pivotAggregation": null,
        "pivotColumns": null,
        "xColumns": null,
        "yColumns": null
       },
       "removedWidgets": [],
       "schema": [
        {
         "metadata": "{\"comment\":\"name of the column\"}",
         "name": "col_name",
         "type": "\"string\""
        },
        {
         "metadata": "{\"comment\":\"data type of the column\"}",
         "name": "data_type",
         "type": "\"string\""
        },
        {
         "metadata": "{\"comment\":\"comment of the column\"}",
         "name": "comment",
         "type": "\"string\""
        }
       ],
       "type": "table"
      }
     },
     "output_type": "display_data"
    }
   ],
   "source": [
    "%sql\n",
    "describe extended json_table_updated"
   ]
  },
  {
   "cell_type": "code",
   "execution_count": 0,
   "metadata": {
    "application/vnd.databricks.v1+cell": {
     "cellMetadata": {
      "byteLimit": 2048000,
      "implicitDf": true,
      "rowLimit": 10000
     },
     "inputWidgets": {},
     "nuid": "a493f3e8-242a-42cc-976f-ebfa0d781ee2",
     "showTitle": false,
     "tableResultSettingsMap": {},
     "title": ""
    }
   },
   "outputs": [
    {
     "output_type": "display_data",
     "data": {
      "text/html": [
       "<style scoped>\n",
       "  .table-result-container {\n",
       "    max-height: 300px;\n",
       "    overflow: auto;\n",
       "  }\n",
       "  table, th, td {\n",
       "    border: 1px solid black;\n",
       "    border-collapse: collapse;\n",
       "  }\n",
       "  th, td {\n",
       "    padding: 5px;\n",
       "  }\n",
       "  th {\n",
       "    text-align: left;\n",
       "  }\n",
       "</style><div class='table-result-container'><table class='table-result'><thead style='background-color: white'><tr><th>id</th><th>name</th><th>email</th><th>phone</th><th>city</th><th>state</th><th>street</th><th>zipcode</th><th>item_id</th><th>product_name</th><th>price</th><th>quantity</th></tr></thead><tbody><tr><td>1</td><td>John Doe</td><td>john.doe@example.com</td><td>123-456-7890</td><td>Somewhere</td><td>california</td><td>123 Main St</td><td>12345</td><td>X1</td><td>Laptop</td><td>1200</td><td>1</td></tr><tr><td>1</td><td>John Doe</td><td>john.doe@example.com</td><td>123-456-7890</td><td>Somewhere</td><td>california</td><td>123 Main St</td><td>12345</td><td>X2</td><td>Mouse</td><td>30</td><td>1</td></tr><tr><td>1</td><td>John Doe</td><td>john.doe@example.com</td><td>123-456-7890</td><td>Somewhere</td><td>california</td><td>123 Main St</td><td>12345</td><td>X3</td><td>Keyboard</td><td>100</td><td>1</td></tr><tr><td>2</td><td>Jane Smith</td><td>jane.smith@example.com</td><td>987-654-3210</td><td>Anywhere</td><td>TX</td><td>456 Elm St</td><td>67890</td><td>Y1</td><td>Smartphone</td><td>800</td><td>1</td></tr><tr><td>3</td><td>Michael Johnson</td><td>michael.johnson@example.com</td><td>321-654-9870</td><td>Elsewhere</td><td>NY</td><td>789 Oak St</td><td>11223</td><td>Z1</td><td>Tablet</td><td>450</td><td>1</td></tr><tr><td>3</td><td>Michael Johnson</td><td>michael.johnson@example.com</td><td>321-654-9870</td><td>Elsewhere</td><td>NY</td><td>789 Oak St</td><td>11223</td><td>Z2</td><td>Charger</td><td>20</td><td>1</td></tr><tr><td>4</td><td>Emily Davis</td><td>emily.davis@example.com</td><td>654-321-0987</td><td>Nowhere</td><td>FL</td><td>321 Pine St</td><td>23456</td><td>W1</td><td>Monitor</td><td>300</td><td>2</td></tr><tr><td>5</td><td>David Lee</td><td>david.lee@example.com</td><td>555-123-4567</td><td>Everywhere</td><td>WA</td><td>654 Birch St</td><td>34567</td><td>V1</td><td>Headphones</td><td>150</td><td>1</td></tr><tr><td>5</td><td>David Lee</td><td>david.lee@example.com</td><td>555-123-4567</td><td>Everywhere</td><td>WA</td><td>654 Birch St</td><td>34567</td><td>V2</td><td>Case</td><td>30</td><td>1</td></tr><tr><td>6</td><td>Sophia Turner</td><td>sophia.turner@example.com</td><td>111-222-3333</td><td>Somewhereelse</td><td>OR</td><td>987 Cedar St</td><td>45678</td><td>P1</td><td>Monitor Stand</td><td>80</td><td>1</td></tr><tr><td>7</td><td>Liam Brown</td><td>liam.brown@example.com</td><td>444-555-6666</td><td>Hometown</td><td>CO</td><td>234 Maple St</td><td>56789</td><td>T1</td><td>Bluetooth Speaker</td><td>200</td><td>1</td></tr><tr><td>8</td><td>Ava Martinez</td><td>ava.martinez@example.com</td><td>777-888-9999</td><td>Newtown</td><td>NV</td><td>567 Spruce St</td><td>67890</td><td>Q1</td><td>Smartwatch</td><td>250</td><td>1</td></tr><tr><td>9</td><td>Ethan White</td><td>ethan.white@example.com</td><td>222-333-4444</td><td>Anyplace</td><td>AZ</td><td>890 Fir St</td><td>78901</td><td>R1</td><td>Gaming Console</td><td>500</td><td>1</td></tr><tr><td>10</td><td>Mason Clark</td><td>mason.clark@example.com</td><td>333-444-5555</td><td>Uptown</td><td>NC</td><td>432 Willow St</td><td>89012</td><td>S1</td><td>Camera</td><td>400</td><td>1</td></tr><tr><td>10</td><td>Mason Clark</td><td>mason.clark@example.com</td><td>333-444-5555</td><td>Uptown</td><td>NC</td><td>432 Willow St</td><td>89012</td><td>S2</td><td>Tripod</td><td>50</td><td>1</td></tr></tbody></table></div>"
      ]
     },
     "metadata": {
      "application/vnd.databricks.v1+output": {
       "addedWidgets": {},
       "aggData": [],
       "aggError": "",
       "aggOverflow": false,
       "aggSchema": [],
       "aggSeriesLimitReached": false,
       "aggType": "",
       "arguments": {},
       "columnCustomDisplayInfos": {},
       "data": [
        [
         1,
         "John Doe",
         "john.doe@example.com",
         "123-456-7890",
         "Somewhere",
         "california",
         "123 Main St",
         12345,
         "X1",
         "Laptop",
         1200,
         1
        ],
        [
         1,
         "John Doe",
         "john.doe@example.com",
         "123-456-7890",
         "Somewhere",
         "california",
         "123 Main St",
         12345,
         "X2",
         "Mouse",
         30,
         1
        ],
        [
         1,
         "John Doe",
         "john.doe@example.com",
         "123-456-7890",
         "Somewhere",
         "california",
         "123 Main St",
         12345,
         "X3",
         "Keyboard",
         100,
         1
        ],
        [
         2,
         "Jane Smith",
         "jane.smith@example.com",
         "987-654-3210",
         "Anywhere",
         "TX",
         "456 Elm St",
         67890,
         "Y1",
         "Smartphone",
         800,
         1
        ],
        [
         3,
         "Michael Johnson",
         "michael.johnson@example.com",
         "321-654-9870",
         "Elsewhere",
         "NY",
         "789 Oak St",
         11223,
         "Z1",
         "Tablet",
         450,
         1
        ],
        [
         3,
         "Michael Johnson",
         "michael.johnson@example.com",
         "321-654-9870",
         "Elsewhere",
         "NY",
         "789 Oak St",
         11223,
         "Z2",
         "Charger",
         20,
         1
        ],
        [
         4,
         "Emily Davis",
         "emily.davis@example.com",
         "654-321-0987",
         "Nowhere",
         "FL",
         "321 Pine St",
         23456,
         "W1",
         "Monitor",
         300,
         2
        ],
        [
         5,
         "David Lee",
         "david.lee@example.com",
         "555-123-4567",
         "Everywhere",
         "WA",
         "654 Birch St",
         34567,
         "V1",
         "Headphones",
         150,
         1
        ],
        [
         5,
         "David Lee",
         "david.lee@example.com",
         "555-123-4567",
         "Everywhere",
         "WA",
         "654 Birch St",
         34567,
         "V2",
         "Case",
         30,
         1
        ],
        [
         6,
         "Sophia Turner",
         "sophia.turner@example.com",
         "111-222-3333",
         "Somewhereelse",
         "OR",
         "987 Cedar St",
         45678,
         "P1",
         "Monitor Stand",
         80,
         1
        ],
        [
         7,
         "Liam Brown",
         "liam.brown@example.com",
         "444-555-6666",
         "Hometown",
         "CO",
         "234 Maple St",
         56789,
         "T1",
         "Bluetooth Speaker",
         200,
         1
        ],
        [
         8,
         "Ava Martinez",
         "ava.martinez@example.com",
         "777-888-9999",
         "Newtown",
         "NV",
         "567 Spruce St",
         67890,
         "Q1",
         "Smartwatch",
         250,
         1
        ],
        [
         9,
         "Ethan White",
         "ethan.white@example.com",
         "222-333-4444",
         "Anyplace",
         "AZ",
         "890 Fir St",
         78901,
         "R1",
         "Gaming Console",
         500,
         1
        ],
        [
         10,
         "Mason Clark",
         "mason.clark@example.com",
         "333-444-5555",
         "Uptown",
         "NC",
         "432 Willow St",
         89012,
         "S1",
         "Camera",
         400,
         1
        ],
        [
         10,
         "Mason Clark",
         "mason.clark@example.com",
         "333-444-5555",
         "Uptown",
         "NC",
         "432 Willow St",
         89012,
         "S2",
         "Tripod",
         50,
         1
        ]
       ],
       "datasetInfos": [],
       "dbfsResultPath": null,
       "isJsonSchema": true,
       "metadata": {},
       "overflow": false,
       "plotOptions": {
        "customPlotOptions": {},
        "displayType": "table",
        "pivotAggregation": null,
        "pivotColumns": null,
        "xColumns": null,
        "yColumns": null
       },
       "removedWidgets": [],
       "schema": [
        {
         "metadata": "{}",
         "name": "id",
         "type": "\"long\""
        },
        {
         "metadata": "{}",
         "name": "name",
         "type": "\"string\""
        },
        {
         "metadata": "{}",
         "name": "email",
         "type": "\"string\""
        },
        {
         "metadata": "{}",
         "name": "phone",
         "type": "\"string\""
        },
        {
         "metadata": "{}",
         "name": "city",
         "type": "\"string\""
        },
        {
         "metadata": "{}",
         "name": "state",
         "type": "\"string\""
        },
        {
         "metadata": "{}",
         "name": "street",
         "type": "\"string\""
        },
        {
         "metadata": "{}",
         "name": "zipcode",
         "type": "\"integer\""
        },
        {
         "metadata": "{}",
         "name": "item_id",
         "type": "\"string\""
        },
        {
         "metadata": "{}",
         "name": "product_name",
         "type": "\"string\""
        },
        {
         "metadata": "{}",
         "name": "price",
         "type": "\"long\""
        },
        {
         "metadata": "{}",
         "name": "quantity",
         "type": "\"long\""
        }
       ],
       "type": "table"
      }
     },
     "output_type": "display_data"
    }
   ],
   "source": [
    "%sql\n",
    "select * from json_table_updated version as of 1"
   ]
  },
  {
   "cell_type": "code",
   "execution_count": 0,
   "metadata": {
    "application/vnd.databricks.v1+cell": {
     "cellMetadata": {
      "byteLimit": 2048000,
      "implicitDf": true,
      "rowLimit": 10000
     },
     "inputWidgets": {},
     "nuid": "993acb63-98d3-4129-9919-97c091cf0504",
     "showTitle": false,
     "tableResultSettingsMap": {},
     "title": ""
    }
   },
   "outputs": [
    {
     "output_type": "display_data",
     "data": {
      "text/html": [
       "<style scoped>\n",
       "  .table-result-container {\n",
       "    max-height: 300px;\n",
       "    overflow: auto;\n",
       "  }\n",
       "  table, th, td {\n",
       "    border: 1px solid black;\n",
       "    border-collapse: collapse;\n",
       "  }\n",
       "  th, td {\n",
       "    padding: 5px;\n",
       "  }\n",
       "  th {\n",
       "    text-align: left;\n",
       "  }\n",
       "</style><div class='table-result-container'><table class='table-result'><thead style='background-color: white'><tr></tr></thead><tbody></tbody></table></div>"
      ]
     },
     "metadata": {
      "application/vnd.databricks.v1+output": {
       "addedWidgets": {},
       "aggData": [],
       "aggError": "",
       "aggOverflow": false,
       "aggSchema": [],
       "aggSeriesLimitReached": false,
       "aggType": "",
       "arguments": {},
       "columnCustomDisplayInfos": {},
       "data": [],
       "datasetInfos": [],
       "dbfsResultPath": null,
       "isJsonSchema": true,
       "metadata": {},
       "overflow": false,
       "plotOptions": {
        "customPlotOptions": {},
        "displayType": "table",
        "pivotAggregation": null,
        "pivotColumns": null,
        "xColumns": null,
        "yColumns": null
       },
       "removedWidgets": [],
       "schema": [],
       "type": "table"
      }
     },
     "output_type": "display_data"
    }
   ],
   "source": [
    "%sql\n",
    " restore json_table_updated version as of 1 "
   ]
  }
 ],
 "metadata": {
  "application/vnd.databricks.v1+notebook": {
   "computePreferences": null,
   "dashboards": [],
   "environmentMetadata": {
    "base_environment": "",
    "client": "1"
   },
   "language": "python",
   "notebookMetadata": {
    "mostRecentlyExecutedCommandWithImplicitDF": {
     "commandId": 816810937057809,
     "dataframes": [
      "_sqldf"
     ]
    },
    "pythonIndentUnit": 4
   },
   "notebookName": "delta_format",
   "widgets": {}
  }
 },
 "nbformat": 4,
 "nbformat_minor": 0
}
