{
 "cells": [
  {
   "cell_type": "code",
   "execution_count": 0,
   "metadata": {
    "application/vnd.databricks.v1+cell": {
     "cellMetadata": {
      "byteLimit": 2048000,
      "rowLimit": 10000
     },
     "inputWidgets": {},
     "nuid": "037bdb71-b003-4712-840e-d3569c7f452c",
     "showTitle": false,
     "tableResultSettingsMap": {},
     "title": ""
    }
   },
   "outputs": [
    {
     "output_type": "display_data",
     "data": {
      "text/html": [
       "<style scoped>\n",
       "  .table-result-container {\n",
       "    max-height: 300px;\n",
       "    overflow: auto;\n",
       "  }\n",
       "  table, th, td {\n",
       "    border: 1px solid black;\n",
       "    border-collapse: collapse;\n",
       "  }\n",
       "  th, td {\n",
       "    padding: 5px;\n",
       "  }\n",
       "  th {\n",
       "    text-align: left;\n",
       "  }\n",
       "</style><div class='table-result-container'><table class='table-result'><thead style='background-color: white'><tr><th>properties</th><th>required</th><th>type</th></tr></thead><tbody><tr><td>List(List(List(List(date-time, string), List(string), List(string)), object), List(List(List(List(List(Vietnam, Morocco, Korea, Australia, Other), string), List(List(List(string), List(number), List(boolean)), List(field1, field2, field3), object), List(date-time, string), List(List(List(boolean), List(boolean)), object)), List(country, date, data), object), array))</td><td>List(trainingData, metadata)</td><td>object</td></tr></tbody></table></div>"
      ]
     },
     "metadata": {
      "application/vnd.databricks.v1+output": {
       "addedWidgets": {},
       "aggData": [],
       "aggError": "",
       "aggOverflow": false,
       "aggSchema": [],
       "aggSeriesLimitReached": false,
       "aggType": "",
       "arguments": {},
       "columnCustomDisplayInfos": {},
       "data": [
        [
         [
          [
           [
            [
             "date-time",
             "string"
            ],
            [
             "string"
            ],
            [
             "string"
            ]
           ],
           "object"
          ],
          [
           [
            [
             [
              [
               "Vietnam",
               "Morocco",
               "Korea",
               "Australia",
               "Other"
              ],
              "string"
             ],
             [
              [
               [
                "string"
               ],
               [
                "number"
               ],
               [
                "boolean"
               ]
              ],
              [
               "field1",
               "field2",
               "field3"
              ],
              "object"
             ],
             [
              "date-time",
              "string"
             ],
             [
              [
               [
                "boolean"
               ],
               [
                "boolean"
               ]
              ],
              "object"
             ]
            ],
            [
             "country",
             "date",
             "data"
            ],
            "object"
           ],
           "array"
          ]
         ],
         [
          "trainingData",
          "metadata"
         ],
         "object"
        ]
       ],
       "datasetInfos": [],
       "dbfsResultPath": null,
       "isJsonSchema": true,
       "metadata": {},
       "overflow": false,
       "plotOptions": {
        "customPlotOptions": {},
        "displayType": "table",
        "pivotAggregation": null,
        "pivotColumns": null,
        "xColumns": null,
        "yColumns": null
       },
       "removedWidgets": [],
       "schema": [
        {
         "metadata": "{}",
         "name": "properties",
         "type": "{\"type\":\"struct\",\"fields\":[{\"name\":\"metadata\",\"type\":{\"type\":\"struct\",\"fields\":[{\"name\":\"properties\",\"type\":{\"type\":\"struct\",\"fields\":[{\"name\":\"createdAt\",\"type\":{\"type\":\"struct\",\"fields\":[{\"name\":\"format\",\"type\":\"string\",\"nullable\":true,\"metadata\":{}},{\"name\":\"type\",\"type\":\"string\",\"nullable\":true,\"metadata\":{}}]},\"nullable\":true,\"metadata\":{}},{\"name\":\"createdBy\",\"type\":{\"type\":\"struct\",\"fields\":[{\"name\":\"type\",\"type\":\"string\",\"nullable\":true,\"metadata\":{}}]},\"nullable\":true,\"metadata\":{}},{\"name\":\"version\",\"type\":{\"type\":\"struct\",\"fields\":[{\"name\":\"type\",\"type\":\"string\",\"nullable\":true,\"metadata\":{}}]},\"nullable\":true,\"metadata\":{}}]},\"nullable\":true,\"metadata\":{}},{\"name\":\"type\",\"type\":\"string\",\"nullable\":true,\"metadata\":{}}]},\"nullable\":true,\"metadata\":{}},{\"name\":\"trainingData\",\"type\":{\"type\":\"struct\",\"fields\":[{\"name\":\"items\",\"type\":{\"type\":\"struct\",\"fields\":[{\"name\":\"properties\",\"type\":{\"type\":\"struct\",\"fields\":[{\"name\":\"country\",\"type\":{\"type\":\"struct\",\"fields\":[{\"name\":\"enum\",\"type\":{\"type\":\"array\",\"elementType\":\"string\",\"containsNull\":true},\"nullable\":true,\"metadata\":{}},{\"name\":\"type\",\"type\":\"string\",\"nullable\":true,\"metadata\":{}}]},\"nullable\":true,\"metadata\":{}},{\"name\":\"data\",\"type\":{\"type\":\"struct\",\"fields\":[{\"name\":\"properties\",\"type\":{\"type\":\"struct\",\"fields\":[{\"name\":\"field1\",\"type\":{\"type\":\"struct\",\"fields\":[{\"name\":\"type\",\"type\":\"string\",\"nullable\":true,\"metadata\":{}}]},\"nullable\":true,\"metadata\":{}},{\"name\":\"field2\",\"type\":{\"type\":\"struct\",\"fields\":[{\"name\":\"type\",\"type\":\"string\",\"nullable\":true,\"metadata\":{}}]},\"nullable\":true,\"metadata\":{}},{\"name\":\"field3\",\"type\":{\"type\":\"struct\",\"fields\":[{\"name\":\"type\",\"type\":\"string\",\"nullable\":true,\"metadata\":{}}]},\"nullable\":true,\"metadata\":{}}]},\"nullable\":true,\"metadata\":{}},{\"name\":\"required\",\"type\":{\"type\":\"array\",\"elementType\":\"string\",\"containsNull\":true},\"nullable\":true,\"metadata\":{}},{\"name\":\"type\",\"type\":\"string\",\"nullable\":true,\"metadata\":{}}]},\"nullable\":true,\"metadata\":{}},{\"name\":\"date\",\"type\":{\"type\":\"struct\",\"fields\":[{\"name\":\"format\",\"type\":\"string\",\"nullable\":true,\"metadata\":{}},{\"name\":\"type\",\"type\":\"string\",\"nullable\":true,\"metadata\":{}}]},\"nullable\":true,\"metadata\":{}},{\"name\":\"issues\",\"type\":{\"type\":\"struct\",\"fields\":[{\"name\":\"properties\",\"type\":{\"type\":\"struct\",\"fields\":[{\"name\":\"countryDataIssue\",\"type\":{\"type\":\"struct\",\"fields\":[{\"name\":\"type\",\"type\":\"string\",\"nullable\":true,\"metadata\":{}}]},\"nullable\":true,\"metadata\":{}},{\"name\":\"dateFormatIssue\",\"type\":{\"type\":\"struct\",\"fields\":[{\"name\":\"type\",\"type\":\"string\",\"nullable\":true,\"metadata\":{}}]},\"nullable\":true,\"metadata\":{}}]},\"nullable\":true,\"metadata\":{}},{\"name\":\"type\",\"type\":\"string\",\"nullable\":true,\"metadata\":{}}]},\"nullable\":true,\"metadata\":{}}]},\"nullable\":true,\"metadata\":{}},{\"name\":\"required\",\"type\":{\"type\":\"array\",\"elementType\":\"string\",\"containsNull\":true},\"nullable\":true,\"metadata\":{}},{\"name\":\"type\",\"type\":\"string\",\"nullable\":true,\"metadata\":{}}]},\"nullable\":true,\"metadata\":{}},{\"name\":\"type\",\"type\":\"string\",\"nullable\":true,\"metadata\":{}}]},\"nullable\":true,\"metadata\":{}}]}"
        },
        {
         "metadata": "{}",
         "name": "required",
         "type": "{\"type\":\"array\",\"elementType\":\"string\",\"containsNull\":true}"
        },
        {
         "metadata": "{}",
         "name": "type",
         "type": "\"string\""
        }
       ],
       "type": "table"
      }
     },
     "output_type": "display_data"
    }
   ],
   "source": [
    "df = spark.read.json('dbfs:/FileStore/sample_json_3_2.json', multiLine=True)\n",
    "display(df)"
   ]
  },
  {
   "cell_type": "code",
   "execution_count": 0,
   "metadata": {
    "application/vnd.databricks.v1+cell": {
     "cellMetadata": {
      "byteLimit": 2048000,
      "rowLimit": 10000
     },
     "inputWidgets": {},
     "nuid": "798f9143-2d92-4cf2-860b-0ad61537aba1",
     "showTitle": false,
     "tableResultSettingsMap": {},
     "title": ""
    }
   },
   "outputs": [
    {
     "output_type": "display_data",
     "data": {
      "text/html": [
       "<style scoped>\n",
       "  .table-result-container {\n",
       "    max-height: 300px;\n",
       "    overflow: auto;\n",
       "  }\n",
       "  table, th, td {\n",
       "    border: 1px solid black;\n",
       "    border-collapse: collapse;\n",
       "  }\n",
       "  th, td {\n",
       "    padding: 5px;\n",
       "  }\n",
       "  th {\n",
       "    text-align: left;\n",
       "  }\n",
       "</style><div class='table-result-container'><table class='table-result'><thead style='background-color: white'><tr><th>createdAt</th><th>createdBy</th><th>version</th><th>country</th><th>data</th><th>date</th><th>issues</th></tr></thead><tbody><tr><td>List(date-time, string)</td><td>List(string)</td><td>List(string)</td><td>List(List(Vietnam, Morocco, Korea, Australia, Other), string)</td><td>List(List(List(string), List(number), List(boolean)), List(field1, field2, field3), object)</td><td>List(date-time, string)</td><td>List(List(List(boolean), List(boolean)), object)</td></tr></tbody></table></div>"
      ]
     },
     "metadata": {
      "application/vnd.databricks.v1+output": {
       "addedWidgets": {},
       "aggData": [],
       "aggError": "",
       "aggOverflow": false,
       "aggSchema": [],
       "aggSeriesLimitReached": false,
       "aggType": "",
       "arguments": {},
       "columnCustomDisplayInfos": {},
       "data": [
        [
         [
          "date-time",
          "string"
         ],
         [
          "string"
         ],
         [
          "string"
         ],
         [
          [
           "Vietnam",
           "Morocco",
           "Korea",
           "Australia",
           "Other"
          ],
          "string"
         ],
         [
          [
           [
            "string"
           ],
           [
            "number"
           ],
           [
            "boolean"
           ]
          ],
          [
           "field1",
           "field2",
           "field3"
          ],
          "object"
         ],
         [
          "date-time",
          "string"
         ],
         [
          [
           [
            "boolean"
           ],
           [
            "boolean"
           ]
          ],
          "object"
         ]
        ]
       ],
       "datasetInfos": [],
       "dbfsResultPath": null,
       "isJsonSchema": true,
       "metadata": {},
       "overflow": false,
       "plotOptions": {
        "customPlotOptions": {},
        "displayType": "table",
        "pivotAggregation": null,
        "pivotColumns": null,
        "xColumns": null,
        "yColumns": null
       },
       "removedWidgets": [],
       "schema": [
        {
         "metadata": "{}",
         "name": "createdAt",
         "type": "{\"type\":\"struct\",\"fields\":[{\"name\":\"format\",\"type\":\"string\",\"nullable\":true,\"metadata\":{}},{\"name\":\"type\",\"type\":\"string\",\"nullable\":true,\"metadata\":{}}]}"
        },
        {
         "metadata": "{}",
         "name": "createdBy",
         "type": "{\"type\":\"struct\",\"fields\":[{\"name\":\"type\",\"type\":\"string\",\"nullable\":true,\"metadata\":{}}]}"
        },
        {
         "metadata": "{}",
         "name": "version",
         "type": "{\"type\":\"struct\",\"fields\":[{\"name\":\"type\",\"type\":\"string\",\"nullable\":true,\"metadata\":{}}]}"
        },
        {
         "metadata": "{}",
         "name": "country",
         "type": "{\"type\":\"struct\",\"fields\":[{\"name\":\"enum\",\"type\":{\"type\":\"array\",\"elementType\":\"string\",\"containsNull\":true},\"nullable\":true,\"metadata\":{}},{\"name\":\"type\",\"type\":\"string\",\"nullable\":true,\"metadata\":{}}]}"
        },
        {
         "metadata": "{}",
         "name": "data",
         "type": "{\"type\":\"struct\",\"fields\":[{\"name\":\"properties\",\"type\":{\"type\":\"struct\",\"fields\":[{\"name\":\"field1\",\"type\":{\"type\":\"struct\",\"fields\":[{\"name\":\"type\",\"type\":\"string\",\"nullable\":true,\"metadata\":{}}]},\"nullable\":true,\"metadata\":{}},{\"name\":\"field2\",\"type\":{\"type\":\"struct\",\"fields\":[{\"name\":\"type\",\"type\":\"string\",\"nullable\":true,\"metadata\":{}}]},\"nullable\":true,\"metadata\":{}},{\"name\":\"field3\",\"type\":{\"type\":\"struct\",\"fields\":[{\"name\":\"type\",\"type\":\"string\",\"nullable\":true,\"metadata\":{}}]},\"nullable\":true,\"metadata\":{}}]},\"nullable\":true,\"metadata\":{}},{\"name\":\"required\",\"type\":{\"type\":\"array\",\"elementType\":\"string\",\"containsNull\":true},\"nullable\":true,\"metadata\":{}},{\"name\":\"type\",\"type\":\"string\",\"nullable\":true,\"metadata\":{}}]}"
        },
        {
         "metadata": "{}",
         "name": "date",
         "type": "{\"type\":\"struct\",\"fields\":[{\"name\":\"format\",\"type\":\"string\",\"nullable\":true,\"metadata\":{}},{\"name\":\"type\",\"type\":\"string\",\"nullable\":true,\"metadata\":{}}]}"
        },
        {
         "metadata": "{}",
         "name": "issues",
         "type": "{\"type\":\"struct\",\"fields\":[{\"name\":\"properties\",\"type\":{\"type\":\"struct\",\"fields\":[{\"name\":\"countryDataIssue\",\"type\":{\"type\":\"struct\",\"fields\":[{\"name\":\"type\",\"type\":\"string\",\"nullable\":true,\"metadata\":{}}]},\"nullable\":true,\"metadata\":{}},{\"name\":\"dateFormatIssue\",\"type\":{\"type\":\"struct\",\"fields\":[{\"name\":\"type\",\"type\":\"string\",\"nullable\":true,\"metadata\":{}}]},\"nullable\":true,\"metadata\":{}}]},\"nullable\":true,\"metadata\":{}},{\"name\":\"type\",\"type\":\"string\",\"nullable\":true,\"metadata\":{}}]}"
        }
       ],
       "type": "table"
      }
     },
     "output_type": "display_data"
    }
   ],
   "source": [
    "from pyspark.sql.functions import *\n",
    "from pyspark.sql.types import *\n",
    "df.select('properties.metadata.properties.*', 'properties.trainingData.items.properties.*').display()"
   ]
  },
  {
   "cell_type": "code",
   "execution_count": 0,
   "metadata": {
    "application/vnd.databricks.v1+cell": {
     "cellMetadata": {
      "byteLimit": 2048000,
      "rowLimit": 10000
     },
     "inputWidgets": {},
     "nuid": "953becd0-2ed2-410a-bdfb-b00ddb339516",
     "showTitle": false,
     "tableResultSettingsMap": {},
     "title": ""
    }
   },
   "outputs": [
    {
     "output_type": "stream",
     "name": "stdout",
     "output_type": "stream",
     "text": [
      "<class 'pyspark.sql.dataframe.DataFrame'>\n"
     ]
    }
   ],
   "source": [
    "print(type(df))"
   ]
  },
  {
   "cell_type": "code",
   "execution_count": 0,
   "metadata": {
    "application/vnd.databricks.v1+cell": {
     "cellMetadata": {
      "byteLimit": 2048000,
      "rowLimit": 10000
     },
     "inputWidgets": {},
     "nuid": "3dce7219-a414-4960-843f-bad025fe218c",
     "showTitle": false,
     "tableResultSettingsMap": {},
     "title": ""
    }
   },
   "outputs": [
    {
     "output_type": "display_data",
     "data": {
      "text/html": [
       "<style scoped>\n",
       "  .table-result-container {\n",
       "    max-height: 300px;\n",
       "    overflow: auto;\n",
       "  }\n",
       "  table, th, td {\n",
       "    border: 1px solid black;\n",
       "    border-collapse: collapse;\n",
       "  }\n",
       "  th, td {\n",
       "    padding: 5px;\n",
       "  }\n",
       "  th {\n",
       "    text-align: left;\n",
       "  }\n",
       "</style><div class='table-result-container'><table class='table-result'><thead style='background-color: white'><tr><th>address</th><th>contact</th><th>id</th><th>name</th><th>orders</th></tr></thead><tbody><tr><td>List(Somewhere, CA, 123 Main St, 12345)</td><td>List(john.doe@example.com, 123-456-7890)</td><td>1</td><td>John Doe</td><td>List(List(2025-01-15, List(List(X1, Laptop, 1200, 1), List(X2, Mouse, 30, 1)), A123, 1230), List(2025-02-01, List(List(X3, Keyboard, 100, 1)), A124, 100))</td></tr><tr><td>List(Anywhere, TX, 456 Elm St, 67890)</td><td>List(jane.smith@example.com, 987-654-3210)</td><td>2</td><td>Jane Smith</td><td>List(List(2025-01-25, List(List(Y1, Smartphone, 800, 1)), B123, 800))</td></tr><tr><td>List(Elsewhere, NY, 789 Oak St, 11223)</td><td>List(michael.johnson@example.com, 321-654-9870)</td><td>3</td><td>Michael Johnson</td><td>List(List(2025-02-10, List(List(Z1, Tablet, 450, 1), List(Z2, Charger, 20, 1)), C123, 470))</td></tr><tr><td>List(Nowhere, FL, 321 Pine St, 23456)</td><td>List(emily.davis@example.com, 654-321-0987)</td><td>4</td><td>Emily Davis</td><td>List(List(2025-02-05, List(List(W1, Monitor, 300, 2)), D123, 600))</td></tr><tr><td>List(Everywhere, WA, 654 Birch St, 34567)</td><td>List(david.lee@example.com, 555-123-4567)</td><td>5</td><td>David Lee</td><td>List(List(2025-01-30, List(List(V1, Headphones, 150, 1), List(V2, Case, 30, 1)), E123, 180))</td></tr><tr><td>List(Somewhereelse, OR, 987 Cedar St, 45678)</td><td>List(sophia.turner@example.com, 111-222-3333)</td><td>6</td><td>Sophia Turner</td><td>List(List(2025-02-03, List(List(P1, Monitor Stand, 80, 1)), F123, 80))</td></tr><tr><td>List(Hometown, CO, 234 Maple St, 56789)</td><td>List(liam.brown@example.com, 444-555-6666)</td><td>7</td><td>Liam Brown</td><td>List(List(2025-02-14, List(List(T1, Bluetooth Speaker, 200, 1)), G123, 200))</td></tr><tr><td>List(Newtown, NV, 567 Spruce St, 67890)</td><td>List(ava.martinez@example.com, 777-888-9999)</td><td>8</td><td>Ava Martinez</td><td>List(List(2025-01-20, List(List(Q1, Smartwatch, 250, 1)), H123, 250))</td></tr><tr><td>List(Anyplace, AZ, 890 Fir St, 78901)</td><td>List(ethan.white@example.com, 222-333-4444)</td><td>9</td><td>Ethan White</td><td>List(List(2025-01-28, List(List(R1, Gaming Console, 500, 1)), I123, 500))</td></tr><tr><td>List(Uptown, NC, 432 Willow St, 89012)</td><td>List(mason.clark@example.com, 333-444-5555)</td><td>10</td><td>Mason Clark</td><td>List(List(2025-02-08, List(List(S1, Camera, 400, 1), List(S2, Tripod, 50, 1)), J123, 450))</td></tr></tbody></table></div>"
      ]
     },
     "metadata": {
      "application/vnd.databricks.v1+output": {
       "addedWidgets": {},
       "aggData": [],
       "aggError": "",
       "aggOverflow": false,
       "aggSchema": [],
       "aggSeriesLimitReached": false,
       "aggType": "",
       "arguments": {},
       "columnCustomDisplayInfos": {},
       "data": [
        [
         [
          "Somewhere",
          "CA",
          "123 Main St",
          "12345"
         ],
         [
          "john.doe@example.com",
          "123-456-7890"
         ],
         1,
         "John Doe",
         [
          [
           "2025-01-15",
           [
            [
             "X1",
             "Laptop",
             1200,
             1
            ],
            [
             "X2",
             "Mouse",
             30,
             1
            ]
           ],
           "A123",
           1230
          ],
          [
           "2025-02-01",
           [
            [
             "X3",
             "Keyboard",
             100,
             1
            ]
           ],
           "A124",
           100
          ]
         ]
        ],
        [
         [
          "Anywhere",
          "TX",
          "456 Elm St",
          "67890"
         ],
         [
          "jane.smith@example.com",
          "987-654-3210"
         ],
         2,
         "Jane Smith",
         [
          [
           "2025-01-25",
           [
            [
             "Y1",
             "Smartphone",
             800,
             1
            ]
           ],
           "B123",
           800
          ]
         ]
        ],
        [
         [
          "Elsewhere",
          "NY",
          "789 Oak St",
          "11223"
         ],
         [
          "michael.johnson@example.com",
          "321-654-9870"
         ],
         3,
         "Michael Johnson",
         [
          [
           "2025-02-10",
           [
            [
             "Z1",
             "Tablet",
             450,
             1
            ],
            [
             "Z2",
             "Charger",
             20,
             1
            ]
           ],
           "C123",
           470
          ]
         ]
        ],
        [
         [
          "Nowhere",
          "FL",
          "321 Pine St",
          "23456"
         ],
         [
          "emily.davis@example.com",
          "654-321-0987"
         ],
         4,
         "Emily Davis",
         [
          [
           "2025-02-05",
           [
            [
             "W1",
             "Monitor",
             300,
             2
            ]
           ],
           "D123",
           600
          ]
         ]
        ],
        [
         [
          "Everywhere",
          "WA",
          "654 Birch St",
          "34567"
         ],
         [
          "david.lee@example.com",
          "555-123-4567"
         ],
         5,
         "David Lee",
         [
          [
           "2025-01-30",
           [
            [
             "V1",
             "Headphones",
             150,
             1
            ],
            [
             "V2",
             "Case",
             30,
             1
            ]
           ],
           "E123",
           180
          ]
         ]
        ],
        [
         [
          "Somewhereelse",
          "OR",
          "987 Cedar St",
          "45678"
         ],
         [
          "sophia.turner@example.com",
          "111-222-3333"
         ],
         6,
         "Sophia Turner",
         [
          [
           "2025-02-03",
           [
            [
             "P1",
             "Monitor Stand",
             80,
             1
            ]
           ],
           "F123",
           80
          ]
         ]
        ],
        [
         [
          "Hometown",
          "CO",
          "234 Maple St",
          "56789"
         ],
         [
          "liam.brown@example.com",
          "444-555-6666"
         ],
         7,
         "Liam Brown",
         [
          [
           "2025-02-14",
           [
            [
             "T1",
             "Bluetooth Speaker",
             200,
             1
            ]
           ],
           "G123",
           200
          ]
         ]
        ],
        [
         [
          "Newtown",
          "NV",
          "567 Spruce St",
          "67890"
         ],
         [
          "ava.martinez@example.com",
          "777-888-9999"
         ],
         8,
         "Ava Martinez",
         [
          [
           "2025-01-20",
           [
            [
             "Q1",
             "Smartwatch",
             250,
             1
            ]
           ],
           "H123",
           250
          ]
         ]
        ],
        [
         [
          "Anyplace",
          "AZ",
          "890 Fir St",
          "78901"
         ],
         [
          "ethan.white@example.com",
          "222-333-4444"
         ],
         9,
         "Ethan White",
         [
          [
           "2025-01-28",
           [
            [
             "R1",
             "Gaming Console",
             500,
             1
            ]
           ],
           "I123",
           500
          ]
         ]
        ],
        [
         [
          "Uptown",
          "NC",
          "432 Willow St",
          "89012"
         ],
         [
          "mason.clark@example.com",
          "333-444-5555"
         ],
         10,
         "Mason Clark",
         [
          [
           "2025-02-08",
           [
            [
             "S1",
             "Camera",
             400,
             1
            ],
            [
             "S2",
             "Tripod",
             50,
             1
            ]
           ],
           "J123",
           450
          ]
         ]
        ]
       ],
       "datasetInfos": [],
       "dbfsResultPath": null,
       "isJsonSchema": true,
       "metadata": {},
       "overflow": false,
       "plotOptions": {
        "customPlotOptions": {},
        "displayType": "table",
        "pivotAggregation": null,
        "pivotColumns": null,
        "xColumns": null,
        "yColumns": null
       },
       "removedWidgets": [],
       "schema": [
        {
         "metadata": "{}",
         "name": "address",
         "type": "{\"type\":\"struct\",\"fields\":[{\"name\":\"city\",\"type\":\"string\",\"nullable\":true,\"metadata\":{}},{\"name\":\"state\",\"type\":\"string\",\"nullable\":true,\"metadata\":{}},{\"name\":\"street\",\"type\":\"string\",\"nullable\":true,\"metadata\":{}},{\"name\":\"zipcode\",\"type\":\"string\",\"nullable\":true,\"metadata\":{}}]}"
        },
        {
         "metadata": "{}",
         "name": "contact",
         "type": "{\"type\":\"struct\",\"fields\":[{\"name\":\"email\",\"type\":\"string\",\"nullable\":true,\"metadata\":{}},{\"name\":\"phone\",\"type\":\"string\",\"nullable\":true,\"metadata\":{}}]}"
        },
        {
         "metadata": "{}",
         "name": "id",
         "type": "\"long\""
        },
        {
         "metadata": "{}",
         "name": "name",
         "type": "\"string\""
        },
        {
         "metadata": "{}",
         "name": "orders",
         "type": "{\"type\":\"array\",\"elementType\":{\"type\":\"struct\",\"fields\":[{\"name\":\"date\",\"type\":\"string\",\"nullable\":true,\"metadata\":{}},{\"name\":\"items\",\"type\":{\"type\":\"array\",\"elementType\":{\"type\":\"struct\",\"fields\":[{\"name\":\"item_id\",\"type\":\"string\",\"nullable\":true,\"metadata\":{}},{\"name\":\"name\",\"type\":\"string\",\"nullable\":true,\"metadata\":{}},{\"name\":\"price\",\"type\":\"long\",\"nullable\":true,\"metadata\":{}},{\"name\":\"quantity\",\"type\":\"long\",\"nullable\":true,\"metadata\":{}}]},\"containsNull\":true},\"nullable\":true,\"metadata\":{}},{\"name\":\"order_id\",\"type\":\"string\",\"nullable\":true,\"metadata\":{}},{\"name\":\"total\",\"type\":\"long\",\"nullable\":true,\"metadata\":{}}]},\"containsNull\":true}"
        }
       ],
       "type": "table"
      }
     },
     "output_type": "display_data"
    }
   ],
   "source": [
    "df1 = spark.read.json('dbfs:/FileStore/shared_uploads/arjun37ca@gmail.com/10_json.json', multiLine=True)\n",
    "df1.display()"
   ]
  },
  {
   "cell_type": "code",
   "execution_count": 0,
   "metadata": {
    "application/vnd.databricks.v1+cell": {
     "cellMetadata": {
      "byteLimit": 2048000,
      "rowLimit": 10000
     },
     "inputWidgets": {},
     "nuid": "a616484c-0ae5-4af4-9acf-cb50c3ee612c",
     "showTitle": false,
     "tableResultSettingsMap": {},
     "title": ""
    }
   },
   "outputs": [],
   "source": [
    "df2 = df1.withColumnRenamed('name', 'p_name').withColumn('orders', explode('orders')).withColumn('order', explode('orders.items')).select('id', 'p_name', 'contact.*', 'address.*', 'order.*')\n"
   ]
  },
  {
   "cell_type": "code",
   "execution_count": 0,
   "metadata": {
    "application/vnd.databricks.v1+cell": {
     "cellMetadata": {
      "byteLimit": 2048000,
      "rowLimit": 10000
     },
     "inputWidgets": {},
     "nuid": "b61ae720-308d-479a-875a-b732a932200f",
     "showTitle": false,
     "tableResultSettingsMap": {},
     "title": ""
    }
   },
   "outputs": [],
   "source": [
    "df3 = df2.withColumn('zipcode', df2.zipcode.cast(IntegerType()))\n",
    "df3 = df3.withColumnRenamed('name','product_name').withColumnRenamed('p_name', 'name')"
   ]
  },
  {
   "cell_type": "code",
   "execution_count": 0,
   "metadata": {
    "application/vnd.databricks.v1+cell": {
     "cellMetadata": {
      "byteLimit": 2048000,
      "rowLimit": 10000
     },
     "inputWidgets": {},
     "nuid": "8b48c0cc-29ac-41eb-81f3-fa125b2b74b4",
     "showTitle": false,
     "tableResultSettingsMap": {},
     "title": ""
    }
   },
   "outputs": [
    {
     "output_type": "display_data",
     "data": {
      "text/html": [
       "<style scoped>\n",
       "  .table-result-container {\n",
       "    max-height: 300px;\n",
       "    overflow: auto;\n",
       "  }\n",
       "  table, th, td {\n",
       "    border: 1px solid black;\n",
       "    border-collapse: collapse;\n",
       "  }\n",
       "  th, td {\n",
       "    padding: 5px;\n",
       "  }\n",
       "  th {\n",
       "    text-align: left;\n",
       "  }\n",
       "</style><div class='table-result-container'><table class='table-result'><thead style='background-color: white'><tr><th>id</th><th>name</th><th>email</th><th>phone</th><th>city</th><th>state</th><th>street</th><th>zipcode</th><th>item_id</th><th>product_name</th><th>price</th><th>quantity</th></tr></thead><tbody><tr><td>1</td><td>John Doe</td><td>john.doe@example.com</td><td>123-456-7890</td><td>Somewhere</td><td>CA</td><td>123 Main St</td><td>12345</td><td>X1</td><td>Laptop</td><td>1200</td><td>1</td></tr><tr><td>1</td><td>John Doe</td><td>john.doe@example.com</td><td>123-456-7890</td><td>Somewhere</td><td>CA</td><td>123 Main St</td><td>12345</td><td>X2</td><td>Mouse</td><td>30</td><td>1</td></tr><tr><td>1</td><td>John Doe</td><td>john.doe@example.com</td><td>123-456-7890</td><td>Somewhere</td><td>CA</td><td>123 Main St</td><td>12345</td><td>X3</td><td>Keyboard</td><td>100</td><td>1</td></tr><tr><td>2</td><td>Jane Smith</td><td>jane.smith@example.com</td><td>987-654-3210</td><td>Anywhere</td><td>TX</td><td>456 Elm St</td><td>67890</td><td>Y1</td><td>Smartphone</td><td>800</td><td>1</td></tr><tr><td>3</td><td>Michael Johnson</td><td>michael.johnson@example.com</td><td>321-654-9870</td><td>Elsewhere</td><td>NY</td><td>789 Oak St</td><td>11223</td><td>Z1</td><td>Tablet</td><td>450</td><td>1</td></tr><tr><td>3</td><td>Michael Johnson</td><td>michael.johnson@example.com</td><td>321-654-9870</td><td>Elsewhere</td><td>NY</td><td>789 Oak St</td><td>11223</td><td>Z2</td><td>Charger</td><td>20</td><td>1</td></tr><tr><td>4</td><td>Emily Davis</td><td>emily.davis@example.com</td><td>654-321-0987</td><td>Nowhere</td><td>FL</td><td>321 Pine St</td><td>23456</td><td>W1</td><td>Monitor</td><td>300</td><td>2</td></tr><tr><td>5</td><td>David Lee</td><td>david.lee@example.com</td><td>555-123-4567</td><td>Everywhere</td><td>WA</td><td>654 Birch St</td><td>34567</td><td>V1</td><td>Headphones</td><td>150</td><td>1</td></tr><tr><td>5</td><td>David Lee</td><td>david.lee@example.com</td><td>555-123-4567</td><td>Everywhere</td><td>WA</td><td>654 Birch St</td><td>34567</td><td>V2</td><td>Case</td><td>30</td><td>1</td></tr><tr><td>6</td><td>Sophia Turner</td><td>sophia.turner@example.com</td><td>111-222-3333</td><td>Somewhereelse</td><td>OR</td><td>987 Cedar St</td><td>45678</td><td>P1</td><td>Monitor Stand</td><td>80</td><td>1</td></tr><tr><td>7</td><td>Liam Brown</td><td>liam.brown@example.com</td><td>444-555-6666</td><td>Hometown</td><td>CO</td><td>234 Maple St</td><td>56789</td><td>T1</td><td>Bluetooth Speaker</td><td>200</td><td>1</td></tr><tr><td>8</td><td>Ava Martinez</td><td>ava.martinez@example.com</td><td>777-888-9999</td><td>Newtown</td><td>NV</td><td>567 Spruce St</td><td>67890</td><td>Q1</td><td>Smartwatch</td><td>250</td><td>1</td></tr><tr><td>9</td><td>Ethan White</td><td>ethan.white@example.com</td><td>222-333-4444</td><td>Anyplace</td><td>AZ</td><td>890 Fir St</td><td>78901</td><td>R1</td><td>Gaming Console</td><td>500</td><td>1</td></tr><tr><td>10</td><td>Mason Clark</td><td>mason.clark@example.com</td><td>333-444-5555</td><td>Uptown</td><td>NC</td><td>432 Willow St</td><td>89012</td><td>S1</td><td>Camera</td><td>400</td><td>1</td></tr><tr><td>10</td><td>Mason Clark</td><td>mason.clark@example.com</td><td>333-444-5555</td><td>Uptown</td><td>NC</td><td>432 Willow St</td><td>89012</td><td>S2</td><td>Tripod</td><td>50</td><td>1</td></tr></tbody></table></div>"
      ]
     },
     "metadata": {
      "application/vnd.databricks.v1+output": {
       "addedWidgets": {},
       "aggData": [],
       "aggError": "",
       "aggOverflow": false,
       "aggSchema": [],
       "aggSeriesLimitReached": false,
       "aggType": "",
       "arguments": {},
       "columnCustomDisplayInfos": {},
       "data": [
        [
         1,
         "John Doe",
         "john.doe@example.com",
         "123-456-7890",
         "Somewhere",
         "CA",
         "123 Main St",
         12345,
         "X1",
         "Laptop",
         1200,
         1
        ],
        [
         1,
         "John Doe",
         "john.doe@example.com",
         "123-456-7890",
         "Somewhere",
         "CA",
         "123 Main St",
         12345,
         "X2",
         "Mouse",
         30,
         1
        ],
        [
         1,
         "John Doe",
         "john.doe@example.com",
         "123-456-7890",
         "Somewhere",
         "CA",
         "123 Main St",
         12345,
         "X3",
         "Keyboard",
         100,
         1
        ],
        [
         2,
         "Jane Smith",
         "jane.smith@example.com",
         "987-654-3210",
         "Anywhere",
         "TX",
         "456 Elm St",
         67890,
         "Y1",
         "Smartphone",
         800,
         1
        ],
        [
         3,
         "Michael Johnson",
         "michael.johnson@example.com",
         "321-654-9870",
         "Elsewhere",
         "NY",
         "789 Oak St",
         11223,
         "Z1",
         "Tablet",
         450,
         1
        ],
        [
         3,
         "Michael Johnson",
         "michael.johnson@example.com",
         "321-654-9870",
         "Elsewhere",
         "NY",
         "789 Oak St",
         11223,
         "Z2",
         "Charger",
         20,
         1
        ],
        [
         4,
         "Emily Davis",
         "emily.davis@example.com",
         "654-321-0987",
         "Nowhere",
         "FL",
         "321 Pine St",
         23456,
         "W1",
         "Monitor",
         300,
         2
        ],
        [
         5,
         "David Lee",
         "david.lee@example.com",
         "555-123-4567",
         "Everywhere",
         "WA",
         "654 Birch St",
         34567,
         "V1",
         "Headphones",
         150,
         1
        ],
        [
         5,
         "David Lee",
         "david.lee@example.com",
         "555-123-4567",
         "Everywhere",
         "WA",
         "654 Birch St",
         34567,
         "V2",
         "Case",
         30,
         1
        ],
        [
         6,
         "Sophia Turner",
         "sophia.turner@example.com",
         "111-222-3333",
         "Somewhereelse",
         "OR",
         "987 Cedar St",
         45678,
         "P1",
         "Monitor Stand",
         80,
         1
        ],
        [
         7,
         "Liam Brown",
         "liam.brown@example.com",
         "444-555-6666",
         "Hometown",
         "CO",
         "234 Maple St",
         56789,
         "T1",
         "Bluetooth Speaker",
         200,
         1
        ],
        [
         8,
         "Ava Martinez",
         "ava.martinez@example.com",
         "777-888-9999",
         "Newtown",
         "NV",
         "567 Spruce St",
         67890,
         "Q1",
         "Smartwatch",
         250,
         1
        ],
        [
         9,
         "Ethan White",
         "ethan.white@example.com",
         "222-333-4444",
         "Anyplace",
         "AZ",
         "890 Fir St",
         78901,
         "R1",
         "Gaming Console",
         500,
         1
        ],
        [
         10,
         "Mason Clark",
         "mason.clark@example.com",
         "333-444-5555",
         "Uptown",
         "NC",
         "432 Willow St",
         89012,
         "S1",
         "Camera",
         400,
         1
        ],
        [
         10,
         "Mason Clark",
         "mason.clark@example.com",
         "333-444-5555",
         "Uptown",
         "NC",
         "432 Willow St",
         89012,
         "S2",
         "Tripod",
         50,
         1
        ]
       ],
       "datasetInfos": [],
       "dbfsResultPath": null,
       "isJsonSchema": true,
       "metadata": {},
       "overflow": false,
       "plotOptions": {
        "customPlotOptions": {},
        "displayType": "table",
        "pivotAggregation": null,
        "pivotColumns": null,
        "xColumns": null,
        "yColumns": null
       },
       "removedWidgets": [],
       "schema": [
        {
         "metadata": "{}",
         "name": "id",
         "type": "\"long\""
        },
        {
         "metadata": "{}",
         "name": "name",
         "type": "\"string\""
        },
        {
         "metadata": "{}",
         "name": "email",
         "type": "\"string\""
        },
        {
         "metadata": "{}",
         "name": "phone",
         "type": "\"string\""
        },
        {
         "metadata": "{}",
         "name": "city",
         "type": "\"string\""
        },
        {
         "metadata": "{}",
         "name": "state",
         "type": "\"string\""
        },
        {
         "metadata": "{}",
         "name": "street",
         "type": "\"string\""
        },
        {
         "metadata": "{}",
         "name": "zipcode",
         "type": "\"integer\""
        },
        {
         "metadata": "{}",
         "name": "item_id",
         "type": "\"string\""
        },
        {
         "metadata": "{}",
         "name": "product_name",
         "type": "\"string\""
        },
        {
         "metadata": "{}",
         "name": "price",
         "type": "\"long\""
        },
        {
         "metadata": "{}",
         "name": "quantity",
         "type": "\"long\""
        }
       ],
       "type": "table"
      }
     },
     "output_type": "display_data"
    }
   ],
   "source": [
    "df3.display()"
   ]
  },
  {
   "cell_type": "code",
   "execution_count": 0,
   "metadata": {
    "application/vnd.databricks.v1+cell": {
     "cellMetadata": {
      "byteLimit": 2048000,
      "rowLimit": 10000
     },
     "inputWidgets": {},
     "nuid": "8caccf31-1730-416a-a4ed-b2a1255abb4c",
     "showTitle": false,
     "tableResultSettingsMap": {},
     "title": ""
    }
   },
   "outputs": [],
   "source": [
    "df3.write.format('delta').mode(\"overwrite\").option('overwriteSchema', True).option('path', 'dbfs:/FileStore/shared_uploads/arjun37ca@gmail.com/json_table').saveAsTable('json_table_updated')"
   ]
  },
  {
   "cell_type": "code",
   "execution_count": 0,
   "metadata": {
    "application/vnd.databricks.v1+cell": {
     "cellMetadata": {
      "byteLimit": 2048000,
      "rowLimit": 10000
     },
     "inputWidgets": {},
     "nuid": "4c214bc5-5dd7-4e92-aabc-07cafa96a89f",
     "showTitle": false,
     "tableResultSettingsMap": {},
     "title": ""
    }
   },
   "outputs": [
    {
     "output_type": "display_data",
     "data": {
      "text/html": [
       "<style scoped>\n",
       "  .table-result-container {\n",
       "    max-height: 300px;\n",
       "    overflow: auto;\n",
       "  }\n",
       "  table, th, td {\n",
       "    border: 1px solid black;\n",
       "    border-collapse: collapse;\n",
       "  }\n",
       "  th, td {\n",
       "    padding: 5px;\n",
       "  }\n",
       "  th {\n",
       "    text-align: left;\n",
       "  }\n",
       "</style><div class='table-result-container'><table class='table-result'><thead style='background-color: white'><tr><th>id</th><th>name</th><th>email</th><th>phone</th><th>city</th><th>state</th><th>street</th><th>zipcode</th><th>item_id</th><th>product_name</th><th>price</th><th>quantity</th></tr></thead><tbody><tr><td>1</td><td>John Doe</td><td>john.doe@example.com</td><td>123-456-7890</td><td>Somewhere</td><td>CA</td><td>123 Main St</td><td>12345</td><td>X1</td><td>Laptop</td><td>1200</td><td>1</td></tr><tr><td>1</td><td>John Doe</td><td>john.doe@example.com</td><td>123-456-7890</td><td>Somewhere</td><td>CA</td><td>123 Main St</td><td>12345</td><td>X2</td><td>Mouse</td><td>30</td><td>1</td></tr><tr><td>1</td><td>John Doe</td><td>john.doe@example.com</td><td>123-456-7890</td><td>Somewhere</td><td>CA</td><td>123 Main St</td><td>12345</td><td>X3</td><td>Keyboard</td><td>100</td><td>1</td></tr><tr><td>2</td><td>Jane Smith</td><td>jane.smith@example.com</td><td>987-654-3210</td><td>Anywhere</td><td>TX</td><td>456 Elm St</td><td>67890</td><td>Y1</td><td>Smartphone</td><td>800</td><td>1</td></tr><tr><td>3</td><td>Michael Johnson</td><td>michael.johnson@example.com</td><td>321-654-9870</td><td>Elsewhere</td><td>NY</td><td>789 Oak St</td><td>11223</td><td>Z1</td><td>Tablet</td><td>450</td><td>1</td></tr><tr><td>3</td><td>Michael Johnson</td><td>michael.johnson@example.com</td><td>321-654-9870</td><td>Elsewhere</td><td>NY</td><td>789 Oak St</td><td>11223</td><td>Z2</td><td>Charger</td><td>20</td><td>1</td></tr><tr><td>4</td><td>Emily Davis</td><td>emily.davis@example.com</td><td>654-321-0987</td><td>Nowhere</td><td>FL</td><td>321 Pine St</td><td>23456</td><td>W1</td><td>Monitor</td><td>300</td><td>2</td></tr><tr><td>5</td><td>David Lee</td><td>david.lee@example.com</td><td>555-123-4567</td><td>Everywhere</td><td>WA</td><td>654 Birch St</td><td>34567</td><td>V1</td><td>Headphones</td><td>150</td><td>1</td></tr><tr><td>5</td><td>David Lee</td><td>david.lee@example.com</td><td>555-123-4567</td><td>Everywhere</td><td>WA</td><td>654 Birch St</td><td>34567</td><td>V2</td><td>Case</td><td>30</td><td>1</td></tr><tr><td>6</td><td>Sophia Turner</td><td>sophia.turner@example.com</td><td>111-222-3333</td><td>Somewhereelse</td><td>OR</td><td>987 Cedar St</td><td>45678</td><td>P1</td><td>Monitor Stand</td><td>80</td><td>1</td></tr><tr><td>7</td><td>Liam Brown</td><td>liam.brown@example.com</td><td>444-555-6666</td><td>Hometown</td><td>CO</td><td>234 Maple St</td><td>56789</td><td>T1</td><td>Bluetooth Speaker</td><td>200</td><td>1</td></tr><tr><td>8</td><td>Ava Martinez</td><td>ava.martinez@example.com</td><td>777-888-9999</td><td>Newtown</td><td>NV</td><td>567 Spruce St</td><td>67890</td><td>Q1</td><td>Smartwatch</td><td>250</td><td>1</td></tr><tr><td>9</td><td>Ethan White</td><td>ethan.white@example.com</td><td>222-333-4444</td><td>Anyplace</td><td>AZ</td><td>890 Fir St</td><td>78901</td><td>R1</td><td>Gaming Console</td><td>500</td><td>1</td></tr><tr><td>10</td><td>Mason Clark</td><td>mason.clark@example.com</td><td>333-444-5555</td><td>Uptown</td><td>NC</td><td>432 Willow St</td><td>89012</td><td>S1</td><td>Camera</td><td>400</td><td>1</td></tr><tr><td>10</td><td>Mason Clark</td><td>mason.clark@example.com</td><td>333-444-5555</td><td>Uptown</td><td>NC</td><td>432 Willow St</td><td>89012</td><td>S2</td><td>Tripod</td><td>50</td><td>1</td></tr></tbody></table></div>"
      ]
     },
     "metadata": {
      "application/vnd.databricks.v1+output": {
       "addedWidgets": {},
       "aggData": [],
       "aggError": "",
       "aggOverflow": false,
       "aggSchema": [],
       "aggSeriesLimitReached": false,
       "aggType": "",
       "arguments": {},
       "columnCustomDisplayInfos": {},
       "data": [
        [
         1,
         "John Doe",
         "john.doe@example.com",
         "123-456-7890",
         "Somewhere",
         "CA",
         "123 Main St",
         12345,
         "X1",
         "Laptop",
         1200,
         1
        ],
        [
         1,
         "John Doe",
         "john.doe@example.com",
         "123-456-7890",
         "Somewhere",
         "CA",
         "123 Main St",
         12345,
         "X2",
         "Mouse",
         30,
         1
        ],
        [
         1,
         "John Doe",
         "john.doe@example.com",
         "123-456-7890",
         "Somewhere",
         "CA",
         "123 Main St",
         12345,
         "X3",
         "Keyboard",
         100,
         1
        ],
        [
         2,
         "Jane Smith",
         "jane.smith@example.com",
         "987-654-3210",
         "Anywhere",
         "TX",
         "456 Elm St",
         67890,
         "Y1",
         "Smartphone",
         800,
         1
        ],
        [
         3,
         "Michael Johnson",
         "michael.johnson@example.com",
         "321-654-9870",
         "Elsewhere",
         "NY",
         "789 Oak St",
         11223,
         "Z1",
         "Tablet",
         450,
         1
        ],
        [
         3,
         "Michael Johnson",
         "michael.johnson@example.com",
         "321-654-9870",
         "Elsewhere",
         "NY",
         "789 Oak St",
         11223,
         "Z2",
         "Charger",
         20,
         1
        ],
        [
         4,
         "Emily Davis",
         "emily.davis@example.com",
         "654-321-0987",
         "Nowhere",
         "FL",
         "321 Pine St",
         23456,
         "W1",
         "Monitor",
         300,
         2
        ],
        [
         5,
         "David Lee",
         "david.lee@example.com",
         "555-123-4567",
         "Everywhere",
         "WA",
         "654 Birch St",
         34567,
         "V1",
         "Headphones",
         150,
         1
        ],
        [
         5,
         "David Lee",
         "david.lee@example.com",
         "555-123-4567",
         "Everywhere",
         "WA",
         "654 Birch St",
         34567,
         "V2",
         "Case",
         30,
         1
        ],
        [
         6,
         "Sophia Turner",
         "sophia.turner@example.com",
         "111-222-3333",
         "Somewhereelse",
         "OR",
         "987 Cedar St",
         45678,
         "P1",
         "Monitor Stand",
         80,
         1
        ],
        [
         7,
         "Liam Brown",
         "liam.brown@example.com",
         "444-555-6666",
         "Hometown",
         "CO",
         "234 Maple St",
         56789,
         "T1",
         "Bluetooth Speaker",
         200,
         1
        ],
        [
         8,
         "Ava Martinez",
         "ava.martinez@example.com",
         "777-888-9999",
         "Newtown",
         "NV",
         "567 Spruce St",
         67890,
         "Q1",
         "Smartwatch",
         250,
         1
        ],
        [
         9,
         "Ethan White",
         "ethan.white@example.com",
         "222-333-4444",
         "Anyplace",
         "AZ",
         "890 Fir St",
         78901,
         "R1",
         "Gaming Console",
         500,
         1
        ],
        [
         10,
         "Mason Clark",
         "mason.clark@example.com",
         "333-444-5555",
         "Uptown",
         "NC",
         "432 Willow St",
         89012,
         "S1",
         "Camera",
         400,
         1
        ],
        [
         10,
         "Mason Clark",
         "mason.clark@example.com",
         "333-444-5555",
         "Uptown",
         "NC",
         "432 Willow St",
         89012,
         "S2",
         "Tripod",
         50,
         1
        ]
       ],
       "datasetInfos": [],
       "dbfsResultPath": null,
       "isJsonSchema": true,
       "metadata": {},
       "overflow": false,
       "plotOptions": {
        "customPlotOptions": {},
        "displayType": "table",
        "pivotAggregation": null,
        "pivotColumns": null,
        "xColumns": null,
        "yColumns": null
       },
       "removedWidgets": [],
       "schema": [
        {
         "metadata": "{}",
         "name": "id",
         "type": "\"long\""
        },
        {
         "metadata": "{}",
         "name": "name",
         "type": "\"string\""
        },
        {
         "metadata": "{}",
         "name": "email",
         "type": "\"string\""
        },
        {
         "metadata": "{}",
         "name": "phone",
         "type": "\"string\""
        },
        {
         "metadata": "{}",
         "name": "city",
         "type": "\"string\""
        },
        {
         "metadata": "{}",
         "name": "state",
         "type": "\"string\""
        },
        {
         "metadata": "{}",
         "name": "street",
         "type": "\"string\""
        },
        {
         "metadata": "{}",
         "name": "zipcode",
         "type": "\"integer\""
        },
        {
         "metadata": "{}",
         "name": "item_id",
         "type": "\"string\""
        },
        {
         "metadata": "{}",
         "name": "product_name",
         "type": "\"string\""
        },
        {
         "metadata": "{}",
         "name": "price",
         "type": "\"long\""
        },
        {
         "metadata": "{}",
         "name": "quantity",
         "type": "\"long\""
        }
       ],
       "type": "table"
      }
     },
     "output_type": "display_data"
    }
   ],
   "source": [
    "df3.display()"
   ]
  },
  {
   "cell_type": "code",
   "execution_count": 0,
   "metadata": {
    "application/vnd.databricks.v1+cell": {
     "cellMetadata": {
      "byteLimit": 2048000,
      "rowLimit": 10000
     },
     "inputWidgets": {},
     "nuid": "18f91afb-c461-4418-81ae-36e07001aade",
     "showTitle": false,
     "tableResultSettingsMap": {},
     "title": ""
    }
   },
   "outputs": [
    {
     "output_type": "display_data",
     "data": {
      "text/plain": [
       ""
      ]
     },
     "metadata": {
      "application/vnd.databricks.v1+output": {
       "arguments": {},
       "data": "",
       "errorSummary": "Command skipped",
       "errorTraceType": "ansi",
       "metadata": {},
       "type": "ipynbError"
      }
     },
     "output_type": "display_data"
    }
   ],
   "source": [
    "df3.printSchema()"
   ]
  },
  {
   "cell_type": "code",
   "execution_count": 0,
   "metadata": {
    "application/vnd.databricks.v1+cell": {
     "cellMetadata": {
      "byteLimit": 2048000,
      "rowLimit": 10000
     },
     "inputWidgets": {},
     "nuid": "2618ec32-c8a7-42a9-a88b-3df34bf55dce",
     "showTitle": false,
     "tableResultSettingsMap": {},
     "title": ""
    }
   },
   "outputs": [
    {
     "output_type": "display_data",
     "data": {
      "text/plain": [
       ""
      ]
     },
     "metadata": {
      "application/vnd.databricks.v1+output": {
       "arguments": {},
       "data": "",
       "errorSummary": "Command skipped",
       "errorTraceType": "ansi",
       "metadata": {},
       "type": "ipynbError"
      }
     },
     "output_type": "display_data"
    }
   ],
   "source": [
    "df3.groupBy('id').agg(count('item_id').alias('no_of_orders')).orderBy('no_of_orders', ascending=False).display()"
   ]
  },
  {
   "cell_type": "code",
   "execution_count": 0,
   "metadata": {
    "application/vnd.databricks.v1+cell": {
     "cellMetadata": {
      "byteLimit": 2048000,
      "rowLimit": 10000
     },
     "inputWidgets": {},
     "nuid": "d55fd6d1-ec85-46f6-821c-3f3d30b3c609",
     "showTitle": false,
     "tableResultSettingsMap": {},
     "title": ""
    }
   },
   "outputs": [
    {
     "output_type": "display_data",
     "data": {
      "text/plain": [
       ""
      ]
     },
     "metadata": {
      "application/vnd.databricks.v1+output": {
       "arguments": {},
       "data": "",
       "errorSummary": "Command skipped",
       "errorTraceType": "ansi",
       "metadata": {},
       "type": "ipynbError"
      }
     },
     "output_type": "display_data"
    }
   ],
   "source": [
    "df3.groupBy('id').agg(sum('price').alias('total_spendings')).orderBy('total_spendings', ascending=False).display()"
   ]
  }
 ],
 "metadata": {
  "application/vnd.databricks.v1+notebook": {
   "computePreferences": null,
   "dashboards": [],
   "environmentMetadata": {
    "base_environment": "",
    "client": "1"
   },
   "language": "python",
   "notebookMetadata": {
    "mostRecentlyExecutedCommandWithImplicitDF": {
     "commandId": 816810937057803,
     "dataframes": [
      "_sqldf"
     ]
    },
    "pythonIndentUnit": 4
   },
   "notebookName": "json_format",
   "widgets": {}
  }
 },
 "nbformat": 4,
 "nbformat_minor": 0
}
